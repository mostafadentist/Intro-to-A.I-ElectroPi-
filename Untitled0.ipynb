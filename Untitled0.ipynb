{
  "nbformat": 4,
  "nbformat_minor": 0,
  "metadata": {
    "colab": {
      "name": "Untitled0.ipynb",
      "version": "0.3.2",
      "provenance": [],
      "include_colab_link": true
    }
  },
  "cells": [
    {
      "cell_type": "markdown",
      "metadata": {
        "id": "view-in-github",
        "colab_type": "text"
      },
      "source": [
        "[View in Colaboratory](https://colab.research.google.com/github/mostafadentist/Intro-to-A.I-ElectroPi-/blob/master/Untitled0.ipynb)"
      ]
    },
    {
      "metadata": {
        "id": "WkX5uqjHTsL8",
        "colab_type": "code",
        "colab": {
          "base_uri": "https://localhost:8080/",
          "height": 34
        },
        "outputId": "672b8685-fd9b-4559-fa7c-cac734151a92"
      },
      "cell_type": "code",
      "source": [
        "print \"mostfa\"\n"
      ],
      "execution_count": 2,
      "outputs": [
        {
          "output_type": "stream",
          "text": [
            "mostfa\n"
          ],
          "name": "stdout"
        }
      ]
    },
    {
      "metadata": {
        "id": "-bnuDSN4UqlE",
        "colab_type": "code",
        "colab": {}
      },
      "cell_type": "code",
      "source": [
        "import matplotlib.pyplot as plt\n",
        "import seaborn as sns\n",
        "%matplotlib inline"
      ],
      "execution_count": 0,
      "outputs": []
    },
    {
      "metadata": {
        "id": "94INN6dMUw_B",
        "colab_type": "code",
        "colab": {
          "base_uri": "https://localhost:8080/",
          "height": 384
        },
        "outputId": "9c461be6-6ec3-4932-bd04-aeff40e203ae"
      },
      "cell_type": "code",
      "source": [
        "age = [41.5,\n",
        "33.5,\n",
        "32,\n",
        "41,\n",
        "70,\n",
        "8,\n",
        "32.5,\n",
        "37,\n",
        "23.5,\n",
        "34.5,\n",
        "35.5,\n",
        "52.5,\n",
        "41.5,\n",
        "36,\n",
        "37,\n",
        "38.5,\n",
        "36.5,\n",
        "40,\n",
        "27.5,\n",
        "11.5,\n",
        "43,\n",
        "38,\n",
        "30.5,\n",
        "39.5,\n",
        "31,\n",
        "7,\n",
        "28,\n",
        "24,\n",
        "70,\n",
        "26.5,\n",
        "10,\n",
        "28.5,\n",
        "2.5,\n",
        "43.5,\n",
        "39,\n",
        "36,\n",
        "25,\n",
        "40.5,\n",
        "6,\n",
        "60.5,\n",
        "64.5,\n",
        "55,\n",
        "31,\n",
        "42.5,\n",
        "40.5,\n",
        "21.5,\n",
        "36,\n",
        "26,\n",
        "19.5,\n",
        "33.5,\n",
        "22.5,\n",
        "45,\n",
        "0.1,\n",
        "7,\n",
        "10,\n",
        "41,\n",
        "7,\n",
        "4.5,\n",
        "36,\n",
        "48,\n",
        "4.5,\n",
        "39,\n",
        "33,\n",
        "31,\n",
        "31,\n",
        "1,\n",
        "60,\n",
        "49.5,\n",
        "68]\n",
        "plt.hist(age, bins=30, rwidth=0.95, color = \"g\")\n"
      ],
      "execution_count": 20,
      "outputs": [
        {
          "output_type": "execute_result",
          "data": {
            "text/plain": [
              "(array([2., 3., 4., 1., 3., 0., 0., 0., 1., 2., 3., 4., 1., 7., 4., 8., 5.,\n",
              "        7., 3., 1., 1., 1., 1., 1., 0., 2., 0., 1., 0., 3.]),\n",
              " array([ 0.1 ,  2.43,  4.76,  7.09,  9.42, 11.75, 14.08, 16.41, 18.74,\n",
              "        21.07, 23.4 , 25.73, 28.06, 30.39, 32.72, 35.05, 37.38, 39.71,\n",
              "        42.04, 44.37, 46.7 , 49.03, 51.36, 53.69, 56.02, 58.35, 60.68,\n",
              "        63.01, 65.34, 67.67, 70.  ]),\n",
              " <a list of 30 Patch objects>)"
            ]
          },
          "metadata": {
            "tags": []
          },
          "execution_count": 20
        },
        {
          "output_type": "display_data",
          "data": {
            "image/png": "[encoded data removed]",
            "text/plain": [
              "<matplotlib.figure.Figure at 0x7f021f225d10>"
            ]
          },
          "metadata": {
            "tags": []
          }
        }
      ]
    },
    {
      "metadata": {
        "id": "s2mWg10WWrTT",
        "colab_type": "toc"
      },
      "cell_type": "markdown",
      "source": [
        ""
      ]
    }
  ]
}